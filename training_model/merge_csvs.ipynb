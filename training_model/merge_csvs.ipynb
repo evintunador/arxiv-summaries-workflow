{
 "cells": [
  {
   "cell_type": "code",
   "execution_count": 3,
   "id": "8170c514-a4b0-4ec9-b42b-ce99e322547e",
   "metadata": {},
   "outputs": [],
   "source": [
    "import pandas as pd\n",
    "\n",
    "# Load the three datasets\n",
    "seen_file_path = 'papers_seen.csv'\n",
    "downloaded_file_path = 'papers_downloaded.csv'\n",
    "kept_file_path = 'papers_kept.csv'\n",
    "\n",
    "papers_seen = pd.read_csv(seen_file_path)\n",
    "papers_downloaded = pd.read_csv(downloaded_file_path)\n",
    "papers_kept = pd.read_csv(kept_file_path)"
   ]
  },
  {
   "cell_type": "code",
   "execution_count": 7,
   "id": "62538c94-d9ba-4866-b6ae-ec4fc3ce0153",
   "metadata": {},
   "outputs": [],
   "source": [
    "# Find rows in papers_downloaded that are not in papers_seen\n",
    "discrepancies_downloaded_not_in_seen = papers_downloaded.merge(papers_seen, how='left', indicator=True)\n",
    "discrepancies_downloaded_not_in_seen = discrepancies_downloaded_not_in_seen[discrepancies_downloaded_not_in_seen['_merge'] == 'left_only']\n",
    "\n",
    "# Display the discrepancies\n",
    "discrepancies_downloaded_not_in_seen.drop(columns=['_merge'], inplace=True)\n",
    "#import ace_tools as tools; tools.display_dataframe_to_user(name=\"Discrepancies in papers_downloaded not found in papers_seen\", dataframe=discrepancies_downloaded_not_in_seen)\n"
   ]
  },
  {
   "cell_type": "code",
   "execution_count": 11,
   "id": "1137d419-ba2f-49e0-a777-81522ad14a75",
   "metadata": {},
   "outputs": [
    {
     "data": {
      "text/plain": [
       "'papers_dataset_corrected.csv'"
      ]
     },
     "execution_count": 11,
     "metadata": {},
     "output_type": "execute_result"
    }
   ],
   "source": [
    "# First, manually add the missing rows from papers_downloaded to papers_seen in the working representation\n",
    "papers_seen_updated = pd.concat([papers_seen, discrepancies_downloaded_not_in_seen], ignore_index=True).drop_duplicates()\n",
    "\n",
    "# Now, create the two extra columns:\n",
    "# 1. 'In Downloaded' which is 1 if the row exists in papers_downloaded, 0 otherwise\n",
    "# 2. 'In Kept' which is 1 if the row exists in papers_kept, 0 otherwise\n",
    "\n",
    "# First, we'll join papers_seen with papers_downloaded and papers_kept to correctly add the flags\n",
    "papers_dataset = papers_seen_updated.copy()\n",
    "\n",
    "# Adding the 'In Downloaded' column\n",
    "papers_dataset = papers_dataset.merge(\n",
    "    papers_downloaded.assign(In_Downloaded=1), \n",
    "    on=papers_downloaded.columns.tolist(), \n",
    "    how='left'\n",
    ").fillna({'In_Downloaded': 0})\n",
    "\n",
    "# Adding the 'In Kept' column\n",
    "papers_dataset = papers_dataset.merge(\n",
    "    papers_kept.assign(In_Kept=1), \n",
    "    on=papers_kept.columns.tolist(), \n",
    "    how='left'\n",
    ").fillna({'In_Kept': 0})\n",
    "\n",
    "# Save the updated dataset as 'papers_dataset.csv'\n",
    "papers_dataset_path_corrected = 'papers_dataset.csv'\n",
    "papers_dataset.to_csv(papers_dataset_path, index=False)\n",
    "\n",
    "papers_dataset_path\n"
   ]
  },
  {
   "cell_type": "code",
   "execution_count": null,
   "id": "28c42221-0b68-470f-8479-0b42869e0b8e",
   "metadata": {},
   "outputs": [],
   "source": []
  }
 ],
 "metadata": {
  "kernelspec": {
   "display_name": "Python 3 (ipykernel)",
   "language": "python",
   "name": "python3"
  },
  "language_info": {
   "codemirror_mode": {
    "name": "ipython",
    "version": 3
   },
   "file_extension": ".py",
   "mimetype": "text/x-python",
   "name": "python",
   "nbconvert_exporter": "python",
   "pygments_lexer": "ipython3",
   "version": "3.12.4"
  }
 },
 "nbformat": 4,
 "nbformat_minor": 5
}
